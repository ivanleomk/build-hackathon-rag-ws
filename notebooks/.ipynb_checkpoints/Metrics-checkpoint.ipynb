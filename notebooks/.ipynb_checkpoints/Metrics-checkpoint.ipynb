{
 "cells": [
  {
   "cell_type": "markdown",
   "id": "a560158a-daf3-4a02-91a2-e05fde41591e",
   "metadata": {},
   "source": [
    "# Metrics\n",
    "\n",
    "The metrics you capture are specific to the use case that you have. In this notebook we'll walk through 3-4 different potential example use cases and why you might want different metrics at each step.\n",
    "\n",
    "By the end of this notebook, you'll have a better example of when we might want to use each metric\n",
    "\n",
    "1. MRR -> Spotify play next ( Because we care a lot about finding the first relevant result )\n",
    "2. Recall -> Good model with ability to filter through the noise so we want to make sure we return all of the relevant results ( even if we have a good amount of irrelevant ones )\n",
    "3. Precision -> Tool use for RAG models\n",
    "4. NDCG -> We want to make sure that our model gets high quality information (in the event we have multiple relevant chunks that are > k ) or User Citations"
   ]
  },
  {
   "cell_type": "markdown",
   "id": "6ce58cca-4ed6-41c6-9ba7-79fdc180e6a7",
   "metadata": {},
   "source": [
    "## Top-K\n",
    "\n",
    "Before we start looking at the metrics, it's important to note that when we want to evalute the quality of our listings, we always take it at some subset of `k`\n",
    "\n",
    "This is important because `k` is often constrained by a business outcome and can help us determine how well our solution works\n",
    "\n",
    "Eg.\n",
    "\n",
    "1. `k=5` : We'd like to display some recomended items based of a user query (Eg. Help me plan out a dinner with Jonathan next week -> Display 5 possible actions)\n",
    "2. `k=10` : We have a small carousel with recomended items for a user to buy\n",
    "3. `k=25` : We're using a re-ranker, is it filtering out the irrelevant chunks from the relevant chunks well?\n",
    "4. `k=50` : We have a pipeline that fetches information for a model to respond with, are we fetching all relevant bits of information"
   ]
  },
  {
   "cell_type": "markdown",
   "id": "3adc03f0-27d8-4e49-9dd2-d83d04c4f8c6",
   "metadata": {},
   "source": [
    "## Binary Labels\n",
    "\n",
    "If we have data that only has relevant and non-relevant labels, then these 3 are great options! We're also making the assumptions here that all relevant items are of equal value to our end-user ( LLM or actual Human :) )"
   ]
  },
  {
   "attachments": {},
   "cell_type": "markdown",
   "id": "d22aa3a6-f88f-49a9-b1b3-a4bc7bea97ca",
   "metadata": {},
   "source": [
    "### Spotify Play Next Button\n",
    "\n",
    "Imagine we're spotify and we want to suggest a couple of songs to the user. Which is a better result among the three lists of retrieved songs below? ( Note that 2 is the answer we want ) \n",
    "\n",
    "\n",
    "1. [0,1,2,3,4]\n",
    "2. [0,1,3,4,2]\n",
    "\n",
    "Obviously if we're suggesting songs to the user, we want the first relevant song to be listed as early as possible! Therefore we'd prefer 1 over 2 in the example above because 2 is ordered earlier in the first case.\n",
    "\n",
    "A metric that works well for this is the Reciprocal Rank (RR). \n",
    "\n",
    "$$\n",
    "\\frac{1}{\\text{Index of first relevant item}}\n",
    "$$"
   ]
  },
  {
   "cell_type": "code",
   "execution_count": 53,
   "id": "89dc494a-3c18-43d9-acb3-61634874c99f",
   "metadata": {},
   "outputs": [],
   "source": [
    "def rr(results,label):\n",
    "    return round(1/(results.index(label)+1),2) if label in results else 0"
   ]
  },
  {
   "cell_type": "code",
   "execution_count": 52,
   "id": "2a994769-d823-4c0a-a453-873024eacbbc",
   "metadata": {},
   "outputs": [
    {
     "data": {
      "text/plain": [
       "(0.33, 0.2)"
      ]
     },
     "execution_count": 52,
     "metadata": {},
     "output_type": "execute_result"
    }
   ],
   "source": [
    "rr([0,1,2,3,4],2),rr([0,1,3,4,2],2)"
   ]
  },
  {
   "cell_type": "markdown",
   "id": "8235878e-2973-4bb7-8230-ec38b6c97647",
   "metadata": {},
   "source": [
    "This is an aggressive metric and once we get to an position of > 10, the value doesn't change much anymore. Most of the big changes happen at indexes < 10."
   ]
  },
  {
   "cell_type": "code",
   "execution_count": 47,
   "id": "ce524169-133c-4352-a596-c4aa32bb59b3",
   "metadata": {},
   "outputs": [
    {
     "name": "stdout",
     "output_type": "stream",
     "text": [
      " 0| 1.00 ---|(--0.50)\n",
      "            ↓\n",
      " 1|        0.50 ---|(--0.17)\n",
      "                   ↓\n",
      " 2|               0.33 ---|(--0.08)\n",
      "                          ↓\n",
      " 3|                      0.25 ---|(--0.05)\n",
      "                                 ↓\n",
      " 4|                             0.20 ---|(--0.03)\n",
      "                                        ↓\n",
      " 5|                                    0.17 ---|(--0.03)\n",
      "                                               ↓\n",
      " 6|                                           0.14 ---|(--0.02)\n",
      "                                                      ↓\n",
      " 7|                                                  0.12 ---|(--0.01)\n",
      "                                                             ↓\n",
      " 8|                                                         0.11 ---|(--0.01)\n",
      "                                                                    ↓\n",
      " 9|                                                                0.10\n"
     ]
    }
   ],
   "source": [
    "def get_rr_at_index(desired_index,length=20):\n",
    "    return rr([0 if i != desired_index else 1 for i in range(length)],1)\n",
    "\n",
    "max_itrs = 10\n",
    "for i in range(max_itrs):\n",
    "    curr_rr = get_rr_at_index(i)\n",
    "    decrease = get_rr_at_index(i+1) - get_rr_at_index(i) if i < max_itrs-1 else 0\n",
    "    decrease_string = f\" ---|(-{decrease:.2f})\" if i < max_itrs-1 else \"\"\n",
    "    print(f\"{i:2}| {' '*(7*i)}{curr_rr:.2f}{decrease_string}\")\n",
    "    if i < max_itrs-1:\n",
    "        print(\"↓\".rjust(7*(i+1)+6))\n",
    "    prev_rr = curr_rr\n"
   ]
  },
  {
   "cell_type": "code",
   "execution_count": 58,
   "id": "fe2560ad-d931-4c25-97f6-7f5d0330dc43",
   "metadata": {},
   "outputs": [
    {
     "data": {
      "image/png": "[encoded data removed]",
      "text/plain": [
       "<Figure size 640x480 with 1 Axes>"
      ]
     },
     "metadata": {},
     "output_type": "display_data"
    }
   ],
   "source": [
    "import matplotlib.pyplot as plt\n",
    "import numpy as np\n",
    "\n",
    "x = np.linspace(1, 15, 15)\n",
    "y = 1/x\n",
    "\n",
    "plt.plot(x, y)\n",
    "plt.xlabel('First Relevant Item Index')\n",
    "plt.ylabel('RR value')\n",
    "plt.title('RR vs index')\n",
    "plt.show()"
   ]
  },
  {
   "cell_type": "markdown",
   "id": "7c955c7d-a183-46d5-85e5-9dbd19cf39c9",
   "metadata": {},
   "source": [
    "What happens if we have multiple relevant items? Well, this doesn't change the calculation either since we only care about the first relevant item"
   ]
  },
  {
   "cell_type": "code",
   "execution_count": 51,
   "id": "f78ea17f-c79d-46f2-aec2-bf1ed6131697",
   "metadata": {},
   "outputs": [
    {
     "data": {
      "text/plain": [
       "(0.33, 0.33)"
      ]
     },
     "execution_count": 51,
     "metadata": {},
     "output_type": "execute_result"
    }
   ],
   "source": [
    "def rr_multi(results,labels):\n",
    "    return max([round(1/(results.index(label)+1),2) if label in results else 0 for label in labels])\n",
    "\n",
    "rr_multi([0,1,2,3,4],[2,4]),rr([0,1,2,3,4],2)"
   ]
  },
  {
   "cell_type": "markdown",
   "id": "d3f5fe33-c79d-4d8c-a3fc-3c20be8a549d",
   "metadata": {},
   "source": [
    "When we have a group of different items and we take the average rr, we get the Mean Reciprocal Rank (MRR) which tells us the average position of the first relevant item in our retrieved results"
   ]
  },
  {
   "cell_type": "markdown",
   "id": "d1df7cba-3be9-4e5e-818a-c225c507d7d3",
   "metadata": {},
   "source": [
    "### Recall\n",
    "\n",
    "Imagine that we're trying to do some Retrieval Augmented Generation and we're not getting good results - some of our vibe checks are failing. How can we now diagnose the issue and determine if it's our retrieval pipeline that's causing the issue?\n",
    "\n",
    "Well, recall is a great place to start!"
   ]
  },
  {
   "cell_type": "code",
   "execution_count": 54,
   "id": "7168cbac-3dd8-4c3d-be9d-5b4b42a6cd24",
   "metadata": {},
   "outputs": [],
   "source": [
    "result_1 = [1,2,3,4,5]\n",
    "result_2 = [5,2,7,8,9]\n",
    "\n",
    "relevant_chunks = [4,5]"
   ]
  },
  {
   "cell_type": "markdown",
   "id": "205e5bfc-0abf-4fb2-9544-8c93023b52f2",
   "metadata": {},
   "source": [
    "Which of the chunks above is a better retrieved result for our RAG application? Let's think about the problem that we're facing\n",
    "\n",
    "1. We have a group of known relevant chunks\n",
    "2. We have a list of retrieved results\n",
    "\n",
    "We can therefore compare them by looking at \n",
    "\n",
    "$$\n",
    "\\frac{\\text{Number of Relevant Documents Retrieved}}{\\text{Total number of relevant documents}}\n",
    "$$\n",
    "\n",
    "Important Caveat here\n",
    "\n",
    "> We care about the total number of retrieved relevant documents because we are confident that our model is able to sift through the provided sources. As model capabilities improve, this is quite a valid assumption ( See [Needle In A Haystack test](https://arize.com/blog-course/the-needle-in-a-haystack-test-evaluating-the-performance-of-llm-rag-systems/)"
   ]
  },
  {
   "cell_type": "code",
   "execution_count": 60,
   "id": "4a7cf777-5041-4228-992c-387ca33b7211",
   "metadata": {},
   "outputs": [
    {
     "data": {
      "text/plain": [
       "(1.0, 0.5)"
      ]
     },
     "execution_count": 60,
     "metadata": {},
     "output_type": "execute_result"
    }
   ],
   "source": [
    "def recall(results,relevant_chunks):\n",
    "    return sum([1 if chunk in results else 0 for chunk in relevant_chunks])/len(relevant_chunks)\n",
    "\n",
    "recall(result_1,relevant_chunks),recall(result_2,relevant_chunks)"
   ]
  },
  {
   "cell_type": "code",
   "execution_count": 61,
   "id": "c7e6eaa2-6b17-4d05-b2ad-9e200d2a7b30",
   "metadata": {},
   "outputs": [
    {
     "name": "stdout",
     "output_type": "stream",
     "text": [
      "[0, 0, 0, 1, 2, 3, 4] -> Recall: 1.0\n",
      "[0, 0, 0, 1, 2, 3, 0] -> Recall: 0.75\n",
      "[0, 0, 0, 1, 2, 0, 0] -> Recall: 0.5\n",
      "[0, 0, 0, 1, 0, 0, 0] -> Recall: 0.25\n",
      "[0, 0, 0, 0, 0, 0, 0] -> Recall: 0.0\n"
     ]
    }
   ],
   "source": [
    "r1 = [0,0,0,1,2,3,4]\n",
    "r2 = [0,0,0,1,2,3,0]\n",
    "r3 = [0,0,0,1,2,0,0]\n",
    "r4 = [0,0,0,1,0,0,0]\n",
    "r5 = [0,0,0,0,0,0,0]\n",
    "\n",
    "relevant_chunks = [1,2,3,4]\n",
    "\n",
    "retrieved_results = [r1,r2,r3,r4,r5]\n",
    "\n",
    "for retrieved_result in retrieved_results:\n",
    "    print(f\"{retrieved_result} -> Recall: {recall(retrieved_result,relevant_chunks)}\")"
   ]
  },
  {
   "cell_type": "markdown",
   "id": "d7f6ee35-8a57-4d77-96f0-6860f7089b8f",
   "metadata": {},
   "source": [
    "What happens if we jumble up the order of these items each time so that the elements are preserved BUT the ordering is not?"
   ]
  },
  {
   "cell_type": "code",
   "execution_count": 85,
   "id": "1aa07094-ff9e-47cb-8a0c-81280135d80d",
   "metadata": {},
   "outputs": [
    {
     "name": "stdout",
     "output_type": "stream",
     "text": [
      "[3, 0, 0, 1, 4, 0, 2] -> Recall: 1.0\n",
      "[3, 0, 0, 2, 1, 0, 0] -> Recall: 0.75\n",
      "[0, 0, 1, 0, 0, 0, 2] -> Recall: 0.5\n",
      "[0, 1, 0, 0, 0, 0, 0] -> Recall: 0.25\n",
      "[0, 0, 0, 0, 0, 0, 0] -> Recall: 0.0\n"
     ]
    }
   ],
   "source": [
    "import random\n",
    "\n",
    "r1 = [0,0,0,1,2,3,4]\n",
    "r2 = [0,0,0,1,2,3,0]\n",
    "r3 = [0,0,0,1,2,0,0]\n",
    "r4 = [0,0,0,1,0,0,0]\n",
    "r5 = [0,0,0,0,0,0,0]\n",
    "\n",
    "relevant_chunks = [1,2,3,4]\n",
    "\n",
    "retrieved_results = [r1,r2,r3,r4,r5]\n",
    "\n",
    "for retrieved_result in retrieved_results:\n",
    "    random.shuffle(retrieved_result)\n",
    "    print(f\"{retrieved_result} -> Recall: {recall(retrieved_result,relevant_chunks)}\")"
   ]
  },
  {
   "cell_type": "markdown",
   "id": "705621df-95ea-48c4-82e8-223cd030c7ea",
   "metadata": {},
   "source": [
    "Therefore we can conclude that recall is unaffected by the ordering of the items and more concerned with how many of our relevant items we retrieved. \n",
    "\n",
    "In other words, we're measuring the breadth of our retrieval!"
   ]
  },
  {
   "cell_type": "markdown",
   "id": "e8826478-38ac-46ff-8cc1-075023446b2c",
   "metadata": {},
   "source": [
    "### Precision\n",
    "\n",
    "Say we're coding a new Agent which has access to 1000s of tools, how can we ensure we're giving our agent the right tools each time?\n",
    "\n",
    "For instance, say the user asks us a question of \"Help me find a time to meet with Daniel for dinner next week\" and we have the tools below\n",
    "\n",
    "- Make a Calendar Appointment\n",
    "- View Calendar\n",
    "- Order a Coffee\n",
    "- Send an Email\n",
    "- Get the Weather\n",
    "- Make a flight booking\n",
    "\n",
    "What are the most relevant tools that our model should return?"
   ]
  },
  {
   "cell_type": "code",
   "execution_count": 90,
   "id": "fd1ce9ce-4d5f-458c-86f9-f7d942571768",
   "metadata": {},
   "outputs": [],
   "source": [
    "tools = [\n",
    "    \"make_appointment\",\n",
    "    \"view_calendar\",\n",
    "    \"order_coffee\",\n",
    "    \"send_email\",\n",
    "    \"get_weather\",\n",
    "    \"make_flight_booking\"\n",
    "]\n",
    "\n",
    "candidate_1 = [\"order_coffee\",\"make_flight_booking\",\"get_weather\"]\n",
    "candidate_2 = [\"view_calendar\",\"make_flight_booking\",\"get_weather\"]\n",
    "candidate_3 = [\"view_calendar\", \"make_appointment\",\"send_email\"]\n",
    "\n",
    "relevant_tools = [\"view_calendar\", \"make_appointment\",\"send_email\"]"
   ]
  },
  {
   "cell_type": "markdown",
   "id": "d6a5c7ed-87c3-40c3-9980-408bd816ad80",
   "metadata": {},
   "source": [
    "How can we evaluate candidate_1, candidate_2 and candidate_3 so that we are able to rank them in terms of quality?\n",
    "\n",
    "We can use precision here to evaluate our models\n",
    "\n",
    "$$\n",
    "\\frac{\\text{Number Of Relevant Items in top k}}{\\text{Number Of Retrieved Items}}\n",
    "$$"
   ]
  },
  {
   "cell_type": "code",
   "execution_count": 93,
   "id": "18f121dc-5621-4dea-a629-30bb883c70db",
   "metadata": {},
   "outputs": [
    {
     "name": "stdout",
     "output_type": "stream",
     "text": [
      "['order_coffee', 'make_flight_booking', 'get_weather'] - 0.0\n",
      "['view_calendar', 'make_flight_booking', 'get_weather'] - 0.33\n",
      "['view_calendar', 'make_appointment', 'send_email'] - 1.0\n"
     ]
    }
   ],
   "source": [
    "def precision(retrieved_items, relevant_items):\n",
    "    return round(sum([1 if item in relevant_items else 0 for item in retrieved_items])/len(retrieved_items),2)\n",
    "\n",
    "evaluated_items = [\n",
    "    candidate_1,\n",
    "    candidate_2,\n",
    "    candidate_3\n",
    "]\n",
    "\n",
    "for item in evaluated_items:\n",
    "    print(f\"{item} - {precision(item,relevant_tools)}\")"
   ]
  },
  {
   "cell_type": "code",
   "execution_count": 111,
   "id": "7b5bc1e8-6ce9-4100-bda6-25401d4ddc6e",
   "metadata": {},
   "outputs": [
    {
     "name": "stdout",
     "output_type": "stream",
     "text": [
      "['make_flight_booking', 'get_weather', 'order_coffee'] - 0.0\n",
      "['make_flight_booking', 'get_weather', 'view_calendar'] - 0.33\n",
      "['view_calendar', 'make_appointment', 'send_email'] - 1.0\n"
     ]
    }
   ],
   "source": [
    "import random\n",
    "\n",
    "evaluated_items = [\n",
    "    candidate_1,\n",
    "    candidate_2,\n",
    "    candidate_3\n",
    "]\n",
    "\n",
    "for item in evaluated_items:\n",
    "    random.shuffle(item)\n",
    "    print(f\"{item} - {precision(item,relevant_tools)}\")"
   ]
  },
  {
   "cell_type": "markdown",
   "id": "c4c0abc5-3e1c-48b7-a8da-40d83615775d",
   "metadata": {},
   "source": [
    "Therefore we can conclude that precision is unaffected by the ordering of the items and more concerned with how many of our relevant items we retrieved.\n",
    "\n",
    "In other words, we're measuring the breadth of our retrieval!"
   ]
  },
  {
   "cell_type": "markdown",
   "id": "c644089b-2911-4dcf-bcbe-1db53dca92b8",
   "metadata": {},
   "source": [
    "## Graded Labels\n",
    "\n",
    "Often times, when we have more data coming from a variety of sources, each relevant chunk starts to have different degrees of relevance to the query itself.\n",
    "\n",
    "Therefore, we need to introduce relevance grading."
   ]
  },
  {
   "cell_type": "markdown",
   "id": "741555e7-e774-42ee-8cda-233c599a5ee9",
   "metadata": {},
   "source": [
    "### NDCG\n",
    "\n",
    "Say we want to display citations to users to showcase how good our specific retrieved results are. When the list of potential relevant chunks we used is high, we want to surface the most relevant citations first for users."
   ]
  },
  {
   "cell_type": "markdown",
   "id": "ea5cf186-d5f9-443d-816e-853d927a8381",
   "metadata": {},
   "source": [
    "A potential metric that we might have is DCG that allows us to compute the quality of retrieved results when we have different relevancy scores for each\n",
    "\n",
    "$$DCG_p = \\sum_{i=1}^p \\frac{rel_i}{\\log_2(i+1)}$$\n",
    "\n",
    "However, DCG doesn't factor in other factors such as list length. Therefore it's possible to have a higher DCG score just by virtue of having a much longer list that might contain worser results.\n",
    "\n",
    "Therefore we need to use NDCG\n",
    "\n",
    "$$NDCG_p = \\frac{DCG_p}{IDCG_p}$$\n"
   ]
  },
  {
   "cell_type": "code",
   "execution_count": 28,
   "id": "734ba141-582c-4918-9c36-3d8d0ecf3cf7",
   "metadata": {},
   "outputs": [
    {
     "data": {
      "text/plain": [
       "0.5739275261263692"
      ]
     },
     "execution_count": 28,
     "metadata": {},
     "output_type": "execute_result"
    }
   ],
   "source": [
    "from sklearn.metrics import ndcg_score\n",
    "import numpy as np\n",
    "\n",
    "\n",
    "scores = np.asarray([[4,4,3,2,1,1]])\n",
    "true_relevance =  np.asarray([[0,1,1,0,3,4]])\n",
    "\n",
    "ndcg_score(true_relevance, scores)"
   ]
  },
  {
   "cell_type": "code",
   "execution_count": 29,
   "id": "638fece2-b518-4ec3-a5f7-db22ac4f93c6",
   "metadata": {},
   "outputs": [
    {
     "data": {
      "text/plain": [
       "0.760530610472332"
      ]
     },
     "execution_count": 29,
     "metadata": {},
     "output_type": "execute_result"
    }
   ],
   "source": [
    "from sklearn.metrics import ndcg_score\n",
    "import numpy as np\n",
    "\n",
    "\n",
    "scores = np.asarray([[4,4,3,2,1,1]])\n",
    "true_relevance =  np.asarray([[0,3,4,0,1,1]])\n",
    "\n",
    "ndcg_score(true_relevance, scores)"
   ]
  },
  {
   "cell_type": "code",
   "execution_count": 30,
   "id": "352ee185-073a-4e61-a7f1-4b591bec96d6",
   "metadata": {},
   "outputs": [
    {
     "data": {
      "text/plain": [
       "0.8341676395257002"
      ]
     },
     "execution_count": 30,
     "metadata": {},
     "output_type": "execute_result"
    }
   ],
   "source": [
    "from sklearn.metrics import ndcg_score\n",
    "import numpy as np\n",
    "\n",
    "\n",
    "scores = np.asarray([[4,4,3,2,1,1]])\n",
    "true_relevance =  np.asarray([[4,1,1,0,0,3]])\n",
    "\n",
    "ndcg_score(true_relevance, scores)"
   ]
  }
 ],
 "metadata": {
  "kernelspec": {
   "display_name": "vibecheck",
   "language": "python",
   "name": "vibecheck"
  },
  "language_info": {
   "codemirror_mode": {
    "name": "ipython",
    "version": 3
   },
   "file_extension": ".py",
   "mimetype": "text/x-python",
   "name": "python",
   "nbconvert_exporter": "python",
   "pygments_lexer": "ipython3",
   "version": "3.12.3"
  }
 },
 "nbformat": 4,
 "nbformat_minor": 5
}
